{
 "cells": [
  {
   "cell_type": "code",
   "execution_count": 1,
   "id": "c49472cd-eba5-470d-b1df-a152acd742bf",
   "metadata": {},
   "outputs": [],
   "source": [
    "import numpy as np "
   ]
  },
  {
   "cell_type": "code",
   "execution_count": 2,
   "id": "90a600a1-9071-404b-9ff8-37366483295c",
   "metadata": {},
   "outputs": [],
   "source": [
    "l = [1,2,3,4]"
   ]
  },
  {
   "cell_type": "code",
   "execution_count": 3,
   "id": "ae97da27-62f5-40c7-8b8f-9b31d53ce9d4",
   "metadata": {},
   "outputs": [
    {
     "data": {
      "text/plain": [
       "list"
      ]
     },
     "execution_count": 3,
     "metadata": {},
     "output_type": "execute_result"
    }
   ],
   "source": [
    "type(l)"
   ]
  },
  {
   "cell_type": "code",
   "execution_count": 4,
   "id": "cc72673f-88a6-4931-93b8-cb7e92581613",
   "metadata": {},
   "outputs": [],
   "source": [
    "a= np.array(l)"
   ]
  },
  {
   "cell_type": "code",
   "execution_count": 5,
   "id": "b56a1b0e-cc8c-4f9b-94ca-861606a4b689",
   "metadata": {},
   "outputs": [
    {
     "data": {
      "text/plain": [
       "numpy.ndarray"
      ]
     },
     "execution_count": 5,
     "metadata": {},
     "output_type": "execute_result"
    }
   ],
   "source": [
    "type(a)"
   ]
  },
  {
   "cell_type": "code",
   "execution_count": 6,
   "id": "9a1dacb4-db0e-4012-8ed2-8e20d43e2af2",
   "metadata": {},
   "outputs": [
    {
     "data": {
      "text/plain": [
       "array([1, 2, 3, 4])"
      ]
     },
     "execution_count": 6,
     "metadata": {},
     "output_type": "execute_result"
    }
   ],
   "source": [
    "a"
   ]
  },
  {
   "cell_type": "code",
   "execution_count": 7,
   "id": "aeb4a457-63f0-4c28-994c-0a41f7aef258",
   "metadata": {},
   "outputs": [],
   "source": [
    "a1 = np.array([1,2,3,4])"
   ]
  },
  {
   "cell_type": "code",
   "execution_count": 8,
   "id": "f2fd1ff9-580c-4051-9512-99e7b976287e",
   "metadata": {},
   "outputs": [
    {
     "data": {
      "text/plain": [
       "array([1, 2, 3, 4])"
      ]
     },
     "execution_count": 8,
     "metadata": {},
     "output_type": "execute_result"
    }
   ],
   "source": [
    "a1"
   ]
  },
  {
   "cell_type": "code",
   "execution_count": 9,
   "id": "a1f28662-6e0c-4b46-b2c2-4144d799bb7c",
   "metadata": {},
   "outputs": [],
   "source": [
    "a2 = np.array([[1,2,3],[4,5,6]])"
   ]
  },
  {
   "cell_type": "code",
   "execution_count": 10,
   "id": "e06e3074-dbc8-4e9e-ab82-e1d5ac647eaf",
   "metadata": {},
   "outputs": [
    {
     "data": {
      "text/plain": [
       "array([[1, 2, 3],\n",
       "       [4, 5, 6]])"
      ]
     },
     "execution_count": 10,
     "metadata": {},
     "output_type": "execute_result"
    }
   ],
   "source": [
    "a2"
   ]
  },
  {
   "cell_type": "code",
   "execution_count": 11,
   "id": "a30b874a-a71c-454c-842c-32e39a7f39e2",
   "metadata": {},
   "outputs": [],
   "source": [
    "a3 = np.array([[[1,2,3],[4,5,6]],[[1,2,3],[4,5,6]],[[1,2,3],[4,5,6]]])"
   ]
  },
  {
   "cell_type": "code",
   "execution_count": 12,
   "id": "fb6ff57a-d7bf-44aa-b48e-533a980a577b",
   "metadata": {},
   "outputs": [
    {
     "data": {
      "text/plain": [
       "array([[[1, 2, 3],\n",
       "        [4, 5, 6]],\n",
       "\n",
       "       [[1, 2, 3],\n",
       "        [4, 5, 6]],\n",
       "\n",
       "       [[1, 2, 3],\n",
       "        [4, 5, 6]]])"
      ]
     },
     "execution_count": 12,
     "metadata": {},
     "output_type": "execute_result"
    }
   ],
   "source": [
    "a3"
   ]
  },
  {
   "cell_type": "code",
   "execution_count": 13,
   "id": "06ef395b-994a-4ffc-b3e9-01c49a195d14",
   "metadata": {},
   "outputs": [
    {
     "data": {
      "text/plain": [
       "array([1, 2, 3, 4])"
      ]
     },
     "execution_count": 13,
     "metadata": {},
     "output_type": "execute_result"
    }
   ],
   "source": [
    "a1"
   ]
  },
  {
   "cell_type": "code",
   "execution_count": 14,
   "id": "e4b81c97-3340-435d-8ddd-3be4cb7f43c0",
   "metadata": {},
   "outputs": [
    {
     "data": {
      "text/plain": [
       "array([[1, 2, 3],\n",
       "       [4, 5, 6]])"
      ]
     },
     "execution_count": 14,
     "metadata": {},
     "output_type": "execute_result"
    }
   ],
   "source": [
    "a2"
   ]
  },
  {
   "cell_type": "code",
   "execution_count": 15,
   "id": "b4b6c2b7-1a70-4a7f-8ce6-5bac5fd0d1d2",
   "metadata": {},
   "outputs": [
    {
     "data": {
      "text/plain": [
       "array([[[1, 2, 3],\n",
       "        [4, 5, 6]],\n",
       "\n",
       "       [[1, 2, 3],\n",
       "        [4, 5, 6]],\n",
       "\n",
       "       [[1, 2, 3],\n",
       "        [4, 5, 6]]])"
      ]
     },
     "execution_count": 15,
     "metadata": {},
     "output_type": "execute_result"
    }
   ],
   "source": [
    "a3"
   ]
  },
  {
   "cell_type": "code",
   "execution_count": 16,
   "id": "22f3e128-aaf6-4117-b700-59eb29225bbc",
   "metadata": {},
   "outputs": [
    {
     "data": {
      "text/plain": [
       "1"
      ]
     },
     "execution_count": 16,
     "metadata": {},
     "output_type": "execute_result"
    }
   ],
   "source": [
    "a1.ndim"
   ]
  },
  {
   "cell_type": "code",
   "execution_count": 17,
   "id": "98659039-7306-4acf-8cd2-ee9e5416650e",
   "metadata": {},
   "outputs": [
    {
     "data": {
      "text/plain": [
       "2"
      ]
     },
     "execution_count": 17,
     "metadata": {},
     "output_type": "execute_result"
    }
   ],
   "source": [
    "a2.ndim"
   ]
  },
  {
   "cell_type": "code",
   "execution_count": 18,
   "id": "29a6ad3e-2203-470f-8d6e-6149e8f9bb36",
   "metadata": {},
   "outputs": [
    {
     "data": {
      "text/plain": [
       "3"
      ]
     },
     "execution_count": 18,
     "metadata": {},
     "output_type": "execute_result"
    }
   ],
   "source": [
    "a3.ndim"
   ]
  },
  {
   "cell_type": "code",
   "execution_count": 19,
   "id": "c40eda82-aeeb-4d2e-a660-c3e7661019ef",
   "metadata": {},
   "outputs": [],
   "source": [
    "l = [1,2,3,4]"
   ]
  },
  {
   "cell_type": "code",
   "execution_count": 20,
   "id": "a6954ec9-b1f5-458e-b7b1-72979fa4fcf2",
   "metadata": {},
   "outputs": [
    {
     "data": {
      "text/plain": [
       "array([1, 2, 3, 4])"
      ]
     },
     "execution_count": 20,
     "metadata": {},
     "output_type": "execute_result"
    }
   ],
   "source": [
    "np.array(l)"
   ]
  },
  {
   "cell_type": "code",
   "execution_count": 25,
   "id": "a18eb44d-e0ca-48a8-9a0d-5b4898305e62",
   "metadata": {},
   "outputs": [
    {
     "data": {
      "text/plain": [
       "array([1, 2, 3, 4])"
      ]
     },
     "execution_count": 25,
     "metadata": {},
     "output_type": "execute_result"
    }
   ],
   "source": [
    "a = np.asarray(l)\n",
    "a"
   ]
  },
  {
   "cell_type": "code",
   "execution_count": 26,
   "id": "ef201657-12fa-4ffa-b86f-1f3a45fdfd7e",
   "metadata": {},
   "outputs": [
    {
     "data": {
      "text/plain": [
       "matrix([[1, 2, 3, 4]])"
      ]
     },
     "execution_count": 26,
     "metadata": {},
     "output_type": "execute_result"
    }
   ],
   "source": [
    "m = np.matrix(l)\n",
    "m"
   ]
  },
  {
   "cell_type": "code",
   "execution_count": 29,
   "id": "26d88ec2-401a-4e07-a0e2-3d27cdf437ad",
   "metadata": {},
   "outputs": [
    {
     "data": {
      "text/plain": [
       "array([1, 2, 3, 4])"
      ]
     },
     "execution_count": 29,
     "metadata": {},
     "output_type": "execute_result"
    }
   ],
   "source": [
    "np.asanyarray(l)"
   ]
  },
  {
   "cell_type": "code",
   "execution_count": 31,
   "id": "8ef002d8-5b56-4cc4-b577-39811f82f491",
   "metadata": {},
   "outputs": [
    {
     "data": {
      "text/plain": [
       "matrix([[1, 2, 3, 4]])"
      ]
     },
     "execution_count": 31,
     "metadata": {},
     "output_type": "execute_result"
    }
   ],
   "source": [
    "np.asanyarray(m)"
   ]
  },
  {
   "cell_type": "code",
   "execution_count": 32,
   "id": "a1feb883-69bf-46a3-a2c2-a8aea3bef2c8",
   "metadata": {},
   "outputs": [
    {
     "data": {
      "text/plain": [
       "array([1, 2, 3, 4])"
      ]
     },
     "execution_count": 32,
     "metadata": {},
     "output_type": "execute_result"
    }
   ],
   "source": [
    "a"
   ]
  },
  {
   "cell_type": "code",
   "execution_count": 33,
   "id": "2586d3c3-0077-4d30-bf58-32cd34734f46",
   "metadata": {},
   "outputs": [],
   "source": [
    "a1 = a"
   ]
  },
  {
   "cell_type": "code",
   "execution_count": 35,
   "id": "2f707726-00f1-461f-8f32-8f7ca3f9c4c1",
   "metadata": {},
   "outputs": [],
   "source": [
    "a[0] = 10"
   ]
  },
  {
   "cell_type": "code",
   "execution_count": 36,
   "id": "5d0c7283-dfc4-4666-b767-4aaf3707801d",
   "metadata": {},
   "outputs": [
    {
     "data": {
      "text/plain": [
       "array([10,  2,  3,  4])"
      ]
     },
     "execution_count": 36,
     "metadata": {},
     "output_type": "execute_result"
    }
   ],
   "source": [
    "a"
   ]
  },
  {
   "cell_type": "code",
   "execution_count": 37,
   "id": "11a0d490-bd5f-48f9-98a4-179da015c06f",
   "metadata": {},
   "outputs": [
    {
     "data": {
      "text/plain": [
       "array([10,  2,  3,  4])"
      ]
     },
     "execution_count": 37,
     "metadata": {},
     "output_type": "execute_result"
    }
   ],
   "source": [
    "a1"
   ]
  },
  {
   "cell_type": "code",
   "execution_count": 38,
   "id": "06898ab2-b8ac-4eb9-b3ef-a8fd5928e9e0",
   "metadata": {},
   "outputs": [],
   "source": [
    "a1[0] = 5"
   ]
  },
  {
   "cell_type": "code",
   "execution_count": 39,
   "id": "9bf53a8c-b165-4d05-a5ae-2ed28a0d0723",
   "metadata": {},
   "outputs": [
    {
     "data": {
      "text/plain": [
       "array([5, 2, 3, 4])"
      ]
     },
     "execution_count": 39,
     "metadata": {},
     "output_type": "execute_result"
    }
   ],
   "source": [
    "a1"
   ]
  },
  {
   "cell_type": "code",
   "execution_count": 40,
   "id": "a9633a43-2cb0-4066-b17b-11cda3fd0724",
   "metadata": {},
   "outputs": [
    {
     "data": {
      "text/plain": [
       "array([5, 2, 3, 4])"
      ]
     },
     "execution_count": 40,
     "metadata": {},
     "output_type": "execute_result"
    }
   ],
   "source": [
    "a"
   ]
  },
  {
   "cell_type": "code",
   "execution_count": 41,
   "id": "edf9d597-6f90-4cbd-b46c-4041475b128f",
   "metadata": {},
   "outputs": [],
   "source": [
    "a2 = np.copy(a)"
   ]
  },
  {
   "cell_type": "code",
   "execution_count": 42,
   "id": "12718820-ea6c-490f-9e8a-28a734c14c0c",
   "metadata": {},
   "outputs": [
    {
     "data": {
      "text/plain": [
       "array([5, 2, 3, 4])"
      ]
     },
     "execution_count": 42,
     "metadata": {},
     "output_type": "execute_result"
    }
   ],
   "source": [
    "a2"
   ]
  },
  {
   "cell_type": "code",
   "execution_count": 44,
   "id": "b320ea76-cc8d-44af-8860-71f26b27d9a5",
   "metadata": {},
   "outputs": [],
   "source": [
    "a[2] = 30"
   ]
  },
  {
   "cell_type": "code",
   "execution_count": 46,
   "id": "cea29f64-77e7-4205-ab74-25fdd9e12c3c",
   "metadata": {},
   "outputs": [
    {
     "data": {
      "text/plain": [
       "array([ 5,  2, 30,  4])"
      ]
     },
     "execution_count": 46,
     "metadata": {},
     "output_type": "execute_result"
    }
   ],
   "source": [
    "a"
   ]
  },
  {
   "cell_type": "code",
   "execution_count": 47,
   "id": "028704de-bdf7-40e8-950a-125f99157434",
   "metadata": {},
   "outputs": [
    {
     "data": {
      "text/plain": [
       "array([5, 2, 3, 4])"
      ]
     },
     "execution_count": 47,
     "metadata": {},
     "output_type": "execute_result"
    }
   ],
   "source": [
    "a2"
   ]
  },
  {
   "cell_type": "code",
   "execution_count": 49,
   "id": "170a76e2-265d-47ef-991c-daa49c7b0685",
   "metadata": {},
   "outputs": [
    {
     "data": {
      "text/plain": [
       "array([[ True, False, False, False, False],\n",
       "       [False,  True, False, False, False],\n",
       "       [False, False,  True, False, False]])"
      ]
     },
     "execution_count": 49,
     "metadata": {},
     "output_type": "execute_result"
    }
   ],
   "source": [
    "np.fromfunction(lambda i,j:i==j,(3,5))"
   ]
  },
  {
   "cell_type": "code",
   "execution_count": 56,
   "id": "fdf89fa4-fa3c-4932-978a-36c5bb7b173f",
   "metadata": {},
   "outputs": [
    {
     "data": {
      "text/plain": [
       "array([[[0.96672302, 0.33946352, 0.81574957, 0.63462274, 0.7838278 ],\n",
       "        [0.746379  , 0.03878678, 0.63940491, 0.58419312, 0.91985391],\n",
       "        [0.82278471, 0.14637003, 0.13722093, 0.06717967, 0.18584386],\n",
       "        [0.27753452, 0.79966072, 0.39886688, 0.91686446, 0.51697132]],\n",
       "\n",
       "       [[0.03406406, 0.18720449, 0.26403928, 0.71838679, 0.27470643],\n",
       "        [0.42424021, 0.15345992, 0.95263972, 0.25262037, 0.89539428],\n",
       "        [0.86500921, 0.16668076, 0.73428113, 0.68431017, 0.10508286],\n",
       "        [0.43148034, 0.66525442, 0.69860064, 0.6264907 , 0.07820103]],\n",
       "\n",
       "       [[0.92814401, 0.37743593, 0.76239754, 0.09347983, 0.42334016],\n",
       "        [0.19938943, 0.5247217 , 0.39364099, 0.9100093 , 0.66051809],\n",
       "        [0.39660302, 0.07798798, 0.4060445 , 0.68368191, 0.69303423],\n",
       "        [0.80366063, 0.54723514, 0.39311741, 0.98885614, 0.55613366]]])"
      ]
     },
     "execution_count": 56,
     "metadata": {},
     "output_type": "execute_result"
    }
   ],
   "source": [
    "np.random.rand(3,4,5)"
   ]
  },
  {
   "cell_type": "code",
   "execution_count": 57,
   "id": "ee3fdf0d-95b6-4be3-b533-83da528af427",
   "metadata": {},
   "outputs": [
    {
     "data": {
      "text/plain": [
       "array([[[[0.95936441, 0.45767211],\n",
       "         [0.18838952, 0.74493737]],\n",
       "\n",
       "        [[0.6046515 , 0.83336067],\n",
       "         [0.35836085, 0.63649386]],\n",
       "\n",
       "        [[0.18445899, 0.41798932],\n",
       "         [0.53708796, 0.27649811]]],\n",
       "\n",
       "\n",
       "       [[[0.07206027, 0.43464186],\n",
       "         [0.35896406, 0.54587183]],\n",
       "\n",
       "        [[0.60065065, 0.34324509],\n",
       "         [0.65682119, 0.43372518]],\n",
       "\n",
       "        [[0.96318026, 0.14842406],\n",
       "         [0.78613052, 0.52796589]]]])"
      ]
     },
     "execution_count": 57,
     "metadata": {},
     "output_type": "execute_result"
    }
   ],
   "source": [
    "np.random.rand(2,3,2,2)"
   ]
  },
  {
   "cell_type": "code",
   "execution_count": 59,
   "id": "2fed35b7-ec9a-4ea1-aa1d-f8e8e549e639",
   "metadata": {},
   "outputs": [
    {
     "data": {
      "text/plain": [
       "array([[[2, 8, 6],\n",
       "        [1, 9, 5]],\n",
       "\n",
       "       [[8, 3, 9],\n",
       "        [6, 7, 3]],\n",
       "\n",
       "       [[9, 2, 6],\n",
       "        [5, 4, 1]],\n",
       "\n",
       "       [[8, 4, 7],\n",
       "        [1, 0, 2]]])"
      ]
     },
     "execution_count": 59,
     "metadata": {},
     "output_type": "execute_result"
    }
   ],
   "source": [
    "np.random.randint(0,10,(4,2,3))"
   ]
  },
  {
   "cell_type": "code",
   "execution_count": 61,
   "id": "54fc58a2-1471-4f57-82e1-91ce016880a1",
   "metadata": {},
   "outputs": [
    {
     "data": {
      "text/plain": [
       "array([[[-1.5225394 ,  0.82570403, -0.03226907],\n",
       "        [-0.1848215 , -2.25057183,  0.02820591],\n",
       "        [-0.12693251,  0.69155195, -0.71834214],\n",
       "        [ 2.04012531, -0.49907025,  0.30654272]],\n",
       "\n",
       "       [[ 1.67366026,  0.6213858 ,  1.74655787],\n",
       "        [ 0.03332792, -1.29659946,  0.65428328],\n",
       "        [ 0.72834096,  1.2327497 , -1.18693494],\n",
       "        [-0.01890492, -1.36805681,  0.59013187]]])"
      ]
     },
     "execution_count": 61,
     "metadata": {},
     "output_type": "execute_result"
    }
   ],
   "source": [
    "np.random.randn(2,4,3)"
   ]
  },
  {
   "cell_type": "code",
   "execution_count": 63,
   "id": "b13c3440-ed5a-4589-b41c-120acb9254ca",
   "metadata": {},
   "outputs": [],
   "source": [
    "d = np.random.randn(4,3)"
   ]
  },
  {
   "cell_type": "code",
   "execution_count": 64,
   "id": "c6648b4d-8cad-4d64-9438-e5932be8e0f8",
   "metadata": {},
   "outputs": [
    {
     "data": {
      "text/plain": [
       "array([[-0.21778223, -0.1865107 , -0.04392467],\n",
       "       [-2.35907244,  1.36522446,  1.11932603],\n",
       "       [ 0.78723793,  2.04111332, -0.91680328],\n",
       "       [-1.5604315 ,  0.05827394, -0.40716146]])"
      ]
     },
     "execution_count": 64,
     "metadata": {},
     "output_type": "execute_result"
    }
   ],
   "source": [
    "d"
   ]
  },
  {
   "cell_type": "code",
   "execution_count": 65,
   "id": "30712ded-267f-44c8-a077-7b51901713ef",
   "metadata": {},
   "outputs": [],
   "source": [
    "import pandas as pd"
   ]
  },
  {
   "cell_type": "code",
   "execution_count": 66,
   "id": "c562a9e8-ccbb-479b-805c-60f6832fa54e",
   "metadata": {},
   "outputs": [
    {
     "data": {
      "text/html": [
       "<div>\n",
       "<style scoped>\n",
       "    .dataframe tbody tr th:only-of-type {\n",
       "        vertical-align: middle;\n",
       "    }\n",
       "\n",
       "    .dataframe tbody tr th {\n",
       "        vertical-align: top;\n",
       "    }\n",
       "\n",
       "    .dataframe thead th {\n",
       "        text-align: right;\n",
       "    }\n",
       "</style>\n",
       "<table border=\"1\" class=\"dataframe\">\n",
       "  <thead>\n",
       "    <tr style=\"text-align: right;\">\n",
       "      <th></th>\n",
       "      <th>0</th>\n",
       "      <th>1</th>\n",
       "      <th>2</th>\n",
       "    </tr>\n",
       "  </thead>\n",
       "  <tbody>\n",
       "    <tr>\n",
       "      <th>0</th>\n",
       "      <td>-0.217782</td>\n",
       "      <td>-0.186511</td>\n",
       "      <td>-0.043925</td>\n",
       "    </tr>\n",
       "    <tr>\n",
       "      <th>1</th>\n",
       "      <td>-2.359072</td>\n",
       "      <td>1.365224</td>\n",
       "      <td>1.119326</td>\n",
       "    </tr>\n",
       "    <tr>\n",
       "      <th>2</th>\n",
       "      <td>0.787238</td>\n",
       "      <td>2.041113</td>\n",
       "      <td>-0.916803</td>\n",
       "    </tr>\n",
       "    <tr>\n",
       "      <th>3</th>\n",
       "      <td>-1.560432</td>\n",
       "      <td>0.058274</td>\n",
       "      <td>-0.407161</td>\n",
       "    </tr>\n",
       "  </tbody>\n",
       "</table>\n",
       "</div>"
      ],
      "text/plain": [
       "          0         1         2\n",
       "0 -0.217782 -0.186511 -0.043925\n",
       "1 -2.359072  1.365224  1.119326\n",
       "2  0.787238  2.041113 -0.916803\n",
       "3 -1.560432  0.058274 -0.407161"
      ]
     },
     "execution_count": 66,
     "metadata": {},
     "output_type": "execute_result"
    }
   ],
   "source": [
    "pd.DataFrame(d)"
   ]
  },
  {
   "cell_type": "code",
   "execution_count": 67,
   "id": "340927a7-10f2-49fe-bfc4-fda040cbf4f3",
   "metadata": {},
   "outputs": [],
   "source": [
    "d1 = np.random.randn(2,3,4)"
   ]
  },
  {
   "cell_type": "code",
   "execution_count": 68,
   "id": "cdb86b69-65a3-40a5-acbe-43a7df192723",
   "metadata": {},
   "outputs": [
    {
     "data": {
      "text/plain": [
       "array([[[-0.80073375, -1.56101881,  0.55499073, -0.61537558],\n",
       "        [ 0.06604927, -0.31398945,  0.97333309, -0.63484458],\n",
       "        [-0.29989601,  0.73886942, -0.70030437,  1.5780712 ]],\n",
       "\n",
       "       [[-1.11868321,  0.62871599, -0.30126679, -1.68203247],\n",
       "        [-1.36613527, -0.45408892, -1.88206339,  0.74423187],\n",
       "        [ 0.27433721,  0.52178699,  1.93040732, -0.51245482]]])"
      ]
     },
     "execution_count": 68,
     "metadata": {},
     "output_type": "execute_result"
    }
   ],
   "source": [
    "d1"
   ]
  },
  {
   "cell_type": "code",
   "execution_count": 71,
   "id": "9dc0810d-e277-428e-a5c4-498d0ccfbccf",
   "metadata": {},
   "outputs": [],
   "source": [
    "#pd.DataFrame(d1) --> cannoot pass 3d array to dataframe which is 2D"
   ]
  },
  {
   "cell_type": "code",
   "execution_count": 74,
   "id": "78ff25c5-0e8c-4017-bffc-9d84e3f4fa40",
   "metadata": {},
   "outputs": [],
   "source": [
    "d1 = d1.reshape(12,2)"
   ]
  },
  {
   "cell_type": "code",
   "execution_count": 75,
   "id": "ff64621a-848c-42ec-9d52-5999a097241c",
   "metadata": {},
   "outputs": [
    {
     "data": {
      "text/html": [
       "<div>\n",
       "<style scoped>\n",
       "    .dataframe tbody tr th:only-of-type {\n",
       "        vertical-align: middle;\n",
       "    }\n",
       "\n",
       "    .dataframe tbody tr th {\n",
       "        vertical-align: top;\n",
       "    }\n",
       "\n",
       "    .dataframe thead th {\n",
       "        text-align: right;\n",
       "    }\n",
       "</style>\n",
       "<table border=\"1\" class=\"dataframe\">\n",
       "  <thead>\n",
       "    <tr style=\"text-align: right;\">\n",
       "      <th></th>\n",
       "      <th>0</th>\n",
       "      <th>1</th>\n",
       "    </tr>\n",
       "  </thead>\n",
       "  <tbody>\n",
       "    <tr>\n",
       "      <th>0</th>\n",
       "      <td>-0.800734</td>\n",
       "      <td>-1.561019</td>\n",
       "    </tr>\n",
       "    <tr>\n",
       "      <th>1</th>\n",
       "      <td>0.554991</td>\n",
       "      <td>-0.615376</td>\n",
       "    </tr>\n",
       "    <tr>\n",
       "      <th>2</th>\n",
       "      <td>0.066049</td>\n",
       "      <td>-0.313989</td>\n",
       "    </tr>\n",
       "    <tr>\n",
       "      <th>3</th>\n",
       "      <td>0.973333</td>\n",
       "      <td>-0.634845</td>\n",
       "    </tr>\n",
       "    <tr>\n",
       "      <th>4</th>\n",
       "      <td>-0.299896</td>\n",
       "      <td>0.738869</td>\n",
       "    </tr>\n",
       "    <tr>\n",
       "      <th>5</th>\n",
       "      <td>-0.700304</td>\n",
       "      <td>1.578071</td>\n",
       "    </tr>\n",
       "    <tr>\n",
       "      <th>6</th>\n",
       "      <td>-1.118683</td>\n",
       "      <td>0.628716</td>\n",
       "    </tr>\n",
       "    <tr>\n",
       "      <th>7</th>\n",
       "      <td>-0.301267</td>\n",
       "      <td>-1.682032</td>\n",
       "    </tr>\n",
       "    <tr>\n",
       "      <th>8</th>\n",
       "      <td>-1.366135</td>\n",
       "      <td>-0.454089</td>\n",
       "    </tr>\n",
       "    <tr>\n",
       "      <th>9</th>\n",
       "      <td>-1.882063</td>\n",
       "      <td>0.744232</td>\n",
       "    </tr>\n",
       "    <tr>\n",
       "      <th>10</th>\n",
       "      <td>0.274337</td>\n",
       "      <td>0.521787</td>\n",
       "    </tr>\n",
       "    <tr>\n",
       "      <th>11</th>\n",
       "      <td>1.930407</td>\n",
       "      <td>-0.512455</td>\n",
       "    </tr>\n",
       "  </tbody>\n",
       "</table>\n",
       "</div>"
      ],
      "text/plain": [
       "           0         1\n",
       "0  -0.800734 -1.561019\n",
       "1   0.554991 -0.615376\n",
       "2   0.066049 -0.313989\n",
       "3   0.973333 -0.634845\n",
       "4  -0.299896  0.738869\n",
       "5  -0.700304  1.578071\n",
       "6  -1.118683  0.628716\n",
       "7  -0.301267 -1.682032\n",
       "8  -1.366135 -0.454089\n",
       "9  -1.882063  0.744232\n",
       "10  0.274337  0.521787\n",
       "11  1.930407 -0.512455"
      ]
     },
     "execution_count": 75,
     "metadata": {},
     "output_type": "execute_result"
    }
   ],
   "source": [
    "pd.DataFrame(d1)"
   ]
  },
  {
   "cell_type": "code",
   "execution_count": 77,
   "id": "2e784be4-cd34-4352-b8f1-9044fa138628",
   "metadata": {},
   "outputs": [
    {
     "data": {
      "text/plain": [
       "array([[-0.80073375, -1.56101881,  0.55499073],\n",
       "       [-0.61537558,  0.06604927, -0.31398945],\n",
       "       [ 0.97333309, -0.63484458, -0.29989601],\n",
       "       [ 0.73886942, -0.70030437,  1.5780712 ],\n",
       "       [-1.11868321,  0.62871599, -0.30126679],\n",
       "       [-1.68203247, -1.36613527, -0.45408892],\n",
       "       [-1.88206339,  0.74423187,  0.27433721],\n",
       "       [ 0.52178699,  1.93040732, -0.51245482]])"
      ]
     },
     "execution_count": 77,
     "metadata": {},
     "output_type": "execute_result"
    }
   ],
   "source": [
    "d1.reshape(8,-1) #-1 identifies the shape required"
   ]
  },
  {
   "cell_type": "code",
   "execution_count": null,
   "id": "9d90e973-24d9-4f07-b0fb-6cf2949e0714",
   "metadata": {},
   "outputs": [],
   "source": []
  }
 ],
 "metadata": {
  "kernelspec": {
   "display_name": "Python 3 (ipykernel)",
   "language": "python",
   "name": "python3"
  },
  "language_info": {
   "codemirror_mode": {
    "name": "ipython",
    "version": 3
   },
   "file_extension": ".py",
   "mimetype": "text/x-python",
   "name": "python",
   "nbconvert_exporter": "python",
   "pygments_lexer": "ipython3",
   "version": "3.10.6"
  }
 },
 "nbformat": 4,
 "nbformat_minor": 5
}
